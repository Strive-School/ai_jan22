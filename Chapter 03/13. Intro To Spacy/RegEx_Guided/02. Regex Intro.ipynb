{
 "cells": [
  {
   "cell_type": "markdown",
   "id": "marked-fountain",
   "metadata": {},
   "source": [
    "# Regular Expressions\n",
    "\n",
    "Regular Expressions, or regex/regexp, are text matching patters defined by a formal syntax. They are used not only to find the occurrence of a substring in a string, as the `find` method does, but also for recurrent strings, or more general patterns. \n",
    "\n",
    "For example: finding all the numbers in a string.\n"
   ]
  },
  {
   "cell_type": "code",
   "execution_count": 12,
   "id": "worse-ballet",
   "metadata": {},
   "outputs": [
    {
     "data": {
      "text/plain": [
       "['131231', '9449', '83782']"
      ]
     },
     "execution_count": 12,
     "metadata": {},
     "output_type": "execute_result"
    }
   ],
   "source": [
    "text = \" This is a string that contains some 131231 random 9449 number in 83782 it.\"\n",
    "\n",
    "import re\n",
    "\n",
    "re.findall(\"\\d+\", text)"
   ]
  },
  {
   "cell_type": "markdown",
   "id": "contained-feeding",
   "metadata": {},
   "source": [
    "You can also use the regular expressions to check if a pattern is found in a text or not, using the `re.search(pattern, text)` function."
   ]
  },
  {
   "cell_type": "code",
   "execution_count": 14,
   "id": "several-anime",
   "metadata": {},
   "outputs": [
    {
     "name": "stdout",
     "output_type": "stream",
     "text": [
      "Match!\n"
     ]
    }
   ],
   "source": [
    "import re\n",
    "\n",
    "pattern = \"doge\"\n",
    "text = \"This is a tweet about Dogecoin.\"\n",
    "\n",
    "if re.search(pattern, text, re.IGNORECASE):\n",
    "    print(\"Match!\")"
   ]
  },
  {
   "cell_type": "markdown",
   "id": "rolled-picking",
   "metadata": {},
   "source": [
    "The `re.IGNORECASE` in the code is there for making the search case *insensitive*."
   ]
  },
  {
   "cell_type": "markdown",
   "id": "worse-austin",
   "metadata": {},
   "source": [
    "## `re.search(...)`\n",
    "\n",
    "But what is the `re.search(...)` output object?"
   ]
  },
  {
   "cell_type": "code",
   "execution_count": 15,
   "id": "north-expansion",
   "metadata": {},
   "outputs": [
    {
     "name": "stdout",
     "output_type": "stream",
     "text": [
      "<class 're.Match'>\n"
     ]
    }
   ],
   "source": [
    "print(type(re.search(pattern, text, re.IGNORECASE)))"
   ]
  },
  {
   "cell_type": "markdown",
   "id": "wound-pepper",
   "metadata": {},
   "source": [
    "It is an object of the class Match. Investigate the methods and the attributes: "
   ]
  },
  {
   "cell_type": "code",
   "execution_count": 16,
   "id": "african-reading",
   "metadata": {},
   "outputs": [
    {
     "data": {
      "text/plain": [
       "['__class__',\n",
       " '__class_getitem__',\n",
       " '__copy__',\n",
       " '__deepcopy__',\n",
       " '__delattr__',\n",
       " '__dir__',\n",
       " '__doc__',\n",
       " '__eq__',\n",
       " '__format__',\n",
       " '__ge__',\n",
       " '__getattribute__',\n",
       " '__getitem__',\n",
       " '__gt__',\n",
       " '__hash__',\n",
       " '__init__',\n",
       " '__init_subclass__',\n",
       " '__le__',\n",
       " '__lt__',\n",
       " '__ne__',\n",
       " '__new__',\n",
       " '__reduce__',\n",
       " '__reduce_ex__',\n",
       " '__repr__',\n",
       " '__setattr__',\n",
       " '__sizeof__',\n",
       " '__str__',\n",
       " '__subclasshook__',\n",
       " 'end',\n",
       " 'endpos',\n",
       " 'expand',\n",
       " 'group',\n",
       " 'groupdict',\n",
       " 'groups',\n",
       " 'lastgroup',\n",
       " 'lastindex',\n",
       " 'pos',\n",
       " 're',\n",
       " 'regs',\n",
       " 'span',\n",
       " 'start',\n",
       " 'string']"
      ]
     },
     "execution_count": 16,
     "metadata": {},
     "output_type": "execute_result"
    }
   ],
   "source": [
    "dir(re.search(pattern, text, re.IGNORECASE))"
   ]
  },
  {
   "cell_type": "markdown",
   "id": "instructional-scoop",
   "metadata": {},
   "source": [
    "As you can see from the output, there are many information embodied in it: for example the start position of the pattern in the string, the end, the string in which we want to find the pattern, and many other attributes.\n",
    "\n",
    "Considering the previous example for the numbers:"
   ]
  },
  {
   "cell_type": "code",
   "execution_count": 48,
   "id": "broad-effort",
   "metadata": {},
   "outputs": [],
   "source": [
    "text = \" This is a string that contains some 131231 random 9449 number in 83782 it.\"\n",
    "\n",
    "pattern = \"\\d+\"\n",
    "\n",
    "match = re.search(pattern, text)"
   ]
  },
  {
   "cell_type": "code",
   "execution_count": 49,
   "id": "different-desert",
   "metadata": {},
   "outputs": [
    {
     "data": {
      "text/plain": [
       "37"
      ]
     },
     "execution_count": 49,
     "metadata": {},
     "output_type": "execute_result"
    }
   ],
   "source": [
    "match.start()"
   ]
  },
  {
   "cell_type": "code",
   "execution_count": 50,
   "id": "fixed-heritage",
   "metadata": {},
   "outputs": [
    {
     "data": {
      "text/plain": [
       "43"
      ]
     },
     "execution_count": 50,
     "metadata": {},
     "output_type": "execute_result"
    }
   ],
   "source": [
    "match.end()"
   ]
  },
  {
   "cell_type": "code",
   "execution_count": 51,
   "id": "amino-partner",
   "metadata": {},
   "outputs": [
    {
     "data": {
      "text/plain": [
       "' This is a string that contains some 131231 random 9449 number in 83782 it.'"
      ]
     },
     "execution_count": 51,
     "metadata": {},
     "output_type": "execute_result"
    }
   ],
   "source": [
    "match.string"
   ]
  },
  {
   "cell_type": "code",
   "execution_count": 52,
   "id": "streaming-differential",
   "metadata": {},
   "outputs": [
    {
     "data": {
      "text/plain": [
       "(37, 43)"
      ]
     },
     "execution_count": 52,
     "metadata": {},
     "output_type": "execute_result"
    }
   ],
   "source": [
    "match.span()"
   ]
  },
  {
   "cell_type": "markdown",
   "id": "aging-perth",
   "metadata": {},
   "source": [
    "Indeed, if you slice the original text using:"
   ]
  },
  {
   "cell_type": "code",
   "execution_count": 53,
   "id": "fourth-cornell",
   "metadata": {},
   "outputs": [
    {
     "data": {
      "text/plain": [
       "'131231'"
      ]
     },
     "execution_count": 53,
     "metadata": {},
     "output_type": "execute_result"
    }
   ],
   "source": [
    "start, end = match.span()\n",
    "text[start:end]"
   ]
  },
  {
   "cell_type": "markdown",
   "id": "suspected-mauritius",
   "metadata": {},
   "source": [
    "## `re.match(...)`\n",
    "\n",
    "If zero or more characters **at the beginning** of string match the regular expression pattern, return a corresponding match object. Return None if the string does not match the pattern.\n",
    "\n",
    "Note that even in MULTILINE mode, `re.match()` will only match at the beginning of the string and not at the beginning of each line.\n",
    "\n",
    "\n"
   ]
  },
  {
   "cell_type": "code",
   "execution_count": 70,
   "id": "whole-lending",
   "metadata": {},
   "outputs": [
    {
     "name": "stdout",
     "output_type": "stream",
     "text": [
      "Pattern found at position 0 of text1\n",
      "Pattern not found in text2\n"
     ]
    }
   ],
   "source": [
    "text1 = \"This is a sample text\"\n",
    "text2 = \"And this is another sample text\"\n",
    "pattern = \"this\"\n",
    "match = re.match(pattern, text1, re.IGNORECASE)\n",
    "if match:\n",
    "    print(f\"Pattern found at position {match.start()} of text1\")\n",
    "else:\n",
    "    print(\"Pattern not found in text1\")\n",
    "    \n",
    "match = re.match(pattern, text2, re.IGNORECASE)\n",
    "if match:\n",
    "    print(f\"Pattern found at position {match.start()} of text2\")\n",
    "else:\n",
    "    print(\"Pattern not found in text2\")"
   ]
  },
  {
   "cell_type": "code",
   "execution_count": 75,
   "id": "atomic-hardwood",
   "metadata": {},
   "outputs": [
    {
     "data": {
      "text/plain": [
       "<re.Match object; span=(0, 4), match='This'>"
      ]
     },
     "execution_count": 75,
     "metadata": {},
     "output_type": "execute_result"
    }
   ],
   "source": [
    "text = \"This is a the first line \\n This is the second line\"\n",
    "pattern = \"This\"\n",
    "\n",
    "re.match(pattern, text, re.MULTILINE)"
   ]
  },
  {
   "cell_type": "markdown",
   "id": "quantitative-webcam",
   "metadata": {},
   "source": [
    "## `re.findall(...)`\n",
    "\n",
    "However, as you have seen so far, the `re.search(...)` function only finds the first occurrence of the pattern. You may want to extract all the occurrences of a certain pattern. You can do it by using `re.findall()`:"
   ]
  },
  {
   "cell_type": "code",
   "execution_count": 78,
   "id": "hairy-germany",
   "metadata": {},
   "outputs": [
    {
     "data": {
      "text/plain": [
       "['131231', '9449', '83782']"
      ]
     },
     "execution_count": 78,
     "metadata": {},
     "output_type": "execute_result"
    }
   ],
   "source": [
    "text = \" This is a string that contains some 131231 random 9449 number in 83782 it.\"\n",
    "pattern = \"\\d+\"\n",
    "\n",
    "re.findall(pattern, text)"
   ]
  },
  {
   "cell_type": "markdown",
   "id": "configured-nomination",
   "metadata": {},
   "source": [
    "As you can see, it returns a list of all the occurrences in the text.\n",
    "\n",
    "For multine patterns, you can use the `re.MULTILINE` argument:"
   ]
  },
  {
   "cell_type": "code",
   "execution_count": 1,
   "id": "incorporated-jackson",
   "metadata": {
    "ExecuteTime": {
     "end_time": "2021-03-30T05:42:01.348174Z",
     "start_time": "2021-03-30T05:42:01.330429Z"
    }
   },
   "outputs": [
    {
     "data": {
      "text/plain": [
       "['3', '2', '1']"
      ]
     },
     "execution_count": 1,
     "metadata": {},
     "output_type": "execute_result"
    }
   ],
   "source": [
    "text = \"\"\"\n",
    "\n",
    "There are 3\n",
    "\n",
    "Numbers in this (2 remaining)\n",
    "\n",
    "text. Still 1 is missing.\n",
    "\"\"\"\n",
    "\n",
    "pattern = r\"\\d+\"\n",
    "re.findall(pattern, text, re.MULTILINE)"
   ]
  },
  {
   "cell_type": "markdown",
   "id": "composite-deposit",
   "metadata": {},
   "source": [
    "## `re.split(...)`\n",
    "\n",
    "Another operation you may want to perform with regex is splitting a string by the occurrences of pattern.\n",
    "\n",
    "You probably are familiar with the split function in Python:\n",
    "\n"
   ]
  },
  {
   "cell_type": "code",
   "execution_count": 125,
   "id": "quiet-junior",
   "metadata": {},
   "outputs": [
    {
     "data": {
      "text/plain": [
       "['This is a sentence', ' This is another sentence', ' End']"
      ]
     },
     "execution_count": 125,
     "metadata": {},
     "output_type": "execute_result"
    }
   ],
   "source": [
    "text = \"This is a sentence. This is another sentence. End\"\n",
    "\n",
    "text.split(\".\")"
   ]
  },
  {
   "cell_type": "markdown",
   "id": "welsh-mississippi",
   "metadata": {},
   "source": [
    "However, you may have a text of the form:"
   ]
  },
  {
   "cell_type": "code",
   "execution_count": 129,
   "id": "soviet-hybrid",
   "metadata": {},
   "outputs": [],
   "source": [
    "text = \"\"\"This is a sentence \\n\n",
    "        -------------------- \\n\n",
    "        This is another sentence. \\n\n",
    "        ------------------------- \\n\n",
    "        End\"\"\""
   ]
  },
  {
   "cell_type": "markdown",
   "id": "planned-damage",
   "metadata": {},
   "source": [
    "where no standard is adopted to separate the sentences. For this, you can use regex as criterium:"
   ]
  },
  {
   "cell_type": "code",
   "execution_count": 130,
   "id": "voluntary-abraham",
   "metadata": {},
   "outputs": [],
   "source": [
    "pattern = \"\\s*-+\\s*|\\.*\\s*\\n\\W*\" "
   ]
  },
  {
   "cell_type": "code",
   "execution_count": 131,
   "id": "sought-aircraft",
   "metadata": {},
   "outputs": [
    {
     "data": {
      "text/plain": [
       "['This is a sentence', 'This is another sentence', 'End']"
      ]
     },
     "execution_count": 131,
     "metadata": {},
     "output_type": "execute_result"
    }
   ],
   "source": [
    "re.split(pattern, text)"
   ]
  },
  {
   "cell_type": "markdown",
   "id": "gorgeous-fighter",
   "metadata": {},
   "source": [
    "As you can see, with regex you can define rules to be *more flexible* in the way you splits. \n",
    "\n",
    "Now it's time to learn some regex!"
   ]
  },
  {
   "cell_type": "markdown",
   "id": "better-cliff",
   "metadata": {},
   "source": [
    "### Matching explicit characters\n",
    "\n",
    "You can match explicit characters using `re.findall(pattern, text)`. It the same of `ctrl+f/cmd+f` on a page.\n",
    "\n",
    "### Matching literal characters\n",
    "\n",
    "In order to match any literal characters (any character except `[\\^$.|?*+()`, you will know more about them soon) you have first introduce a backslash `\\` followed by the character you’d like to select.\n"
   ]
  },
  {
   "cell_type": "code",
   "execution_count": 133,
   "id": "thorough-netherlands",
   "metadata": {},
   "outputs": [
    {
     "data": {
      "text/plain": [
       "['.', '.']"
      ]
     },
     "execution_count": 133,
     "metadata": {},
     "output_type": "execute_result"
    }
   ],
   "source": [
    "# Example\n",
    "\n",
    "re.findall(\"\\.\", \"www.website.com\")"
   ]
  },
  {
   "cell_type": "code",
   "execution_count": 134,
   "id": "distinct-scotland",
   "metadata": {},
   "outputs": [
    {
     "data": {
      "text/plain": [
       "['$']"
      ]
     },
     "execution_count": 134,
     "metadata": {},
     "output_type": "execute_result"
    }
   ],
   "source": [
    "re.findall(\"\\$\", \"Elon Musk bought $BTC\")"
   ]
  },
  {
   "cell_type": "code",
   "execution_count": 135,
   "id": "adjacent-impression",
   "metadata": {},
   "outputs": [
    {
     "data": {
      "text/plain": [
       "['|']"
      ]
     },
     "execution_count": 135,
     "metadata": {},
     "output_type": "execute_result"
    }
   ],
   "source": [
    "re.findall(\"\\|\", \"This | is a pipe.\")"
   ]
  },
  {
   "cell_type": "markdown",
   "id": "local-locator",
   "metadata": {},
   "source": [
    "### Matching by patterns\n",
    "\n",
    "You can use special escape codes to find specific types of patterns in your data, such as digits, non-digits,whitespace, and more. For example:\n",
    "\n",
    "| Code | Meaning                                |\n",
    "|------|----------------------------------------|\n",
    "| \\d   | a digit                                |\n",
    "| \\D   | a non-digit                            |\n",
    "| \\s   | whitespace (tab, space, newline, etc.) |\n",
    "| \\S   | non-whitespace                         |\n",
    "| \\w   | alphanumeric                           |\n",
    "| \\W   | non-alphanumeric                       |\n",
    "| [abc] | any of a,b, or c                      |\n",
    "| [^abc] | not a,b, or c                        |\n",
    "| [a-g] | characters between a & g              |\n",
    "\n",
    "**Anchors**\n",
    "\n",
    "`\\b`\n",
    "Matches the empty string, but only at the beginning or end of a word. A word is defined as a sequence of word characters. Note that formally, \\b is defined as the boundary between a \\w and a \\W character (or vice versa), or between \\w and the beginning/end of the string. This means that r'\\bfoo\\b' matches 'foo', 'foo.', '(foo)', 'bar foo baz' but not 'foobar' or 'foo3'.\n",
    "\n",
    "`\\B`\n",
    "\n",
    "Matches the empty string, but only when **it is not at the beginning or end of a word**. This means that r'py\\B' matches 'python', 'py3', 'py2', but not 'py', 'py.', or 'py!'. \\B is just the opposite of \\b.\n",
    "\n"
   ]
  },
  {
   "cell_type": "code",
   "execution_count": 5,
   "id": "psychological-deployment",
   "metadata": {
    "ExecuteTime": {
     "end_time": "2021-03-29T12:58:55.979681Z",
     "start_time": "2021-03-29T12:58:55.960332Z"
    }
   },
   "outputs": [
    {
     "data": {
      "text/plain": [
       "['a']"
      ]
     },
     "execution_count": 5,
     "metadata": {},
     "output_type": "execute_result"
    }
   ],
   "source": [
    "text = \"abc\"\n",
    "pattern = r\"\\b.\"\n",
    "re.findall(pattern, text)\n",
    "# it matches the word boundaries"
   ]
  },
  {
   "cell_type": "code",
   "execution_count": 6,
   "id": "excellent-kernel",
   "metadata": {
    "ExecuteTime": {
     "end_time": "2021-03-29T12:58:56.468393Z",
     "start_time": "2021-03-29T12:58:56.461711Z"
    }
   },
   "outputs": [
    {
     "data": {
      "text/plain": [
       "['b', 'c']"
      ]
     },
     "execution_count": 6,
     "metadata": {},
     "output_type": "execute_result"
    }
   ],
   "source": [
    "text = \"abc\"\n",
    "pattern = r\"\\B.\"\n",
    "re.findall(pattern, text)\n",
    "# it's the opposite of \\b."
   ]
  },
  {
   "cell_type": "code",
   "execution_count": 10,
   "id": "published-paradise",
   "metadata": {
    "ExecuteTime": {
     "end_time": "2021-03-29T12:59:23.457158Z",
     "start_time": "2021-03-29T12:59:23.449416Z"
    }
   },
   "outputs": [
    {
     "data": {
      "text/plain": [
       "<re.Match object; span=(0, 2), match='py'>"
      ]
     },
     "execution_count": 10,
     "metadata": {},
     "output_type": "execute_result"
    }
   ],
   "source": [
    "text = \"python\"\n",
    "pattern = r\"py\\B\"\n",
    "re.match(pattern, text)"
   ]
  },
  {
   "cell_type": "code",
   "execution_count": 11,
   "id": "excess-invalid",
   "metadata": {
    "ExecuteTime": {
     "end_time": "2021-03-29T12:59:40.420051Z",
     "start_time": "2021-03-29T12:59:40.416919Z"
    }
   },
   "outputs": [],
   "source": [
    "text = \"py.\"\n",
    "pattern = r\"py\\B\"\n",
    "re.match(pattern, text)"
   ]
  },
  {
   "cell_type": "code",
   "execution_count": 185,
   "id": "false-terrorism",
   "metadata": {},
   "outputs": [
    {
     "data": {
      "text/plain": [
       "['text']"
      ]
     },
     "execution_count": 185,
     "metadata": {},
     "output_type": "execute_result"
    }
   ],
   "source": [
    "text = \"This text contains some 12321 random 42 digits 123321.\"\n",
    "\n",
    "pattern = \"\\\\btext\"\n",
    "re.findall(pattern, text)\n"
   ]
  },
  {
   "cell_type": "markdown",
   "id": "juvenile-overview",
   "metadata": {},
   "source": [
    "N.B. Regular expressions use the backslash character (`\\`) to indicate special forms or to allow special characters to be used without invoking their special meaning. This collides with Python’s usage of the same character for the same purpose in string literals. \n",
    "In the cell above, two patterns are equivalent:\n",
    "\n",
    "`pattern = \"\\\\btext\"`\n",
    "\n",
    "and\n",
    "\n",
    "`pattern = r\"\\btext\"`\n",
    "\n",
    "Some other escaped characters are:\n",
    "\n",
    "| Class | Explanation |\n",
    "|:-----:|:-----------:|\n",
    "| \\\\. \\\\* \\\\\\\\ | escaped special characters |\n",
    "| \\t \\n \\r | tab, linefeed, carriage return |\n",
    "\n",
    "If you check the markdown of this cell, you will notice that the same rules apply for `\\.`, `\\*` and `\\\\` in the markdown.\n"
   ]
  },
  {
   "cell_type": "code",
   "execution_count": 186,
   "id": "classical-volunteer",
   "metadata": {},
   "outputs": [
    {
     "data": {
      "text/plain": [
       "['text']"
      ]
     },
     "execution_count": 186,
     "metadata": {},
     "output_type": "execute_result"
    }
   ],
   "source": [
    "text = \"This text contains some 12321 random 42 digits 123321.\"\n",
    "\n",
    "pattern = r\"\\btext\"\n",
    "re.findall(pattern, text)\n",
    "\n"
   ]
  },
  {
   "cell_type": "code",
   "execution_count": null,
   "id": "permanent-hostel",
   "metadata": {},
   "outputs": [],
   "source": []
  },
  {
   "cell_type": "code",
   "execution_count": 138,
   "id": "governmental-roads",
   "metadata": {},
   "outputs": [
    {
     "data": {
      "text/plain": [
       "['1', '2', '3', '2', '1', '4', '2', '1', '2', '3', '3', '2', '1']"
      ]
     },
     "execution_count": 138,
     "metadata": {},
     "output_type": "execute_result"
    }
   ],
   "source": [
    "# find a single digit\n",
    "text = \"This text contains some 12321 random 42 digits 123321.\"\n",
    "pattern = \"\\d\"\n",
    "re.findall(pattern, text)"
   ]
  },
  {
   "cell_type": "code",
   "execution_count": 139,
   "id": "hydraulic-helen",
   "metadata": {},
   "outputs": [
    {
     "data": {
      "text/plain": [
       "['T',\n",
       " 'h',\n",
       " 'i',\n",
       " 's',\n",
       " ' ',\n",
       " 't',\n",
       " 'e',\n",
       " 'x',\n",
       " 't',\n",
       " ' ',\n",
       " 'c',\n",
       " 'o',\n",
       " 'n',\n",
       " 't',\n",
       " 'a',\n",
       " 'i',\n",
       " 'n',\n",
       " 's',\n",
       " ' ',\n",
       " 's',\n",
       " 'o',\n",
       " 'm',\n",
       " 'e',\n",
       " ' ',\n",
       " ' ',\n",
       " 'r',\n",
       " 'a',\n",
       " 'n',\n",
       " 'd',\n",
       " 'o',\n",
       " 'm',\n",
       " ' ',\n",
       " ' ',\n",
       " 'd',\n",
       " 'i',\n",
       " 'g',\n",
       " 'i',\n",
       " 't',\n",
       " 's',\n",
       " ' ',\n",
       " '.']"
      ]
     },
     "execution_count": 139,
     "metadata": {},
     "output_type": "execute_result"
    }
   ],
   "source": [
    "text = \"This text contains some 12321 random 42 digits 123321.\"\n",
    "pattern = \"\\D\"\n",
    "re.findall(pattern, text)"
   ]
  },
  {
   "cell_type": "code",
   "execution_count": 140,
   "id": "stretch-carol",
   "metadata": {},
   "outputs": [
    {
     "data": {
      "text/plain": [
       "[' ', ' ', ' ', ' ', ' ', ' ', ' ', ' ']"
      ]
     },
     "execution_count": 140,
     "metadata": {},
     "output_type": "execute_result"
    }
   ],
   "source": [
    "text = \"This text contains some 12321 random 42 digits 123321.\"\n",
    "pattern = \"\\s\"\n",
    "re.findall(pattern, text)"
   ]
  },
  {
   "cell_type": "code",
   "execution_count": 141,
   "id": "sudden-luxury",
   "metadata": {},
   "outputs": [
    {
     "data": {
      "text/plain": [
       "['T',\n",
       " 'h',\n",
       " 'i',\n",
       " 's',\n",
       " 't',\n",
       " 'e',\n",
       " 'x',\n",
       " 't',\n",
       " 'c',\n",
       " 'o',\n",
       " 'n',\n",
       " 't',\n",
       " 'a',\n",
       " 'i',\n",
       " 'n',\n",
       " 's',\n",
       " 's',\n",
       " 'o',\n",
       " 'm',\n",
       " 'e',\n",
       " '1',\n",
       " '2',\n",
       " '3',\n",
       " '2',\n",
       " '1',\n",
       " 'r',\n",
       " 'a',\n",
       " 'n',\n",
       " 'd',\n",
       " 'o',\n",
       " 'm',\n",
       " '4',\n",
       " '2',\n",
       " 'd',\n",
       " 'i',\n",
       " 'g',\n",
       " 'i',\n",
       " 't',\n",
       " 's',\n",
       " '1',\n",
       " '2',\n",
       " '3',\n",
       " '3',\n",
       " '2',\n",
       " '1',\n",
       " '.']"
      ]
     },
     "execution_count": 141,
     "metadata": {},
     "output_type": "execute_result"
    }
   ],
   "source": [
    "text = \"This text contains some 12321 random 42 digits 123321.\"\n",
    "pattern = \"\\S\"\n",
    "re.findall(pattern, text)"
   ]
  },
  {
   "cell_type": "code",
   "execution_count": 142,
   "id": "quiet-dietary",
   "metadata": {},
   "outputs": [
    {
     "data": {
      "text/plain": [
       "['T',\n",
       " 'h',\n",
       " 'i',\n",
       " 's',\n",
       " 't',\n",
       " 'e',\n",
       " 'x',\n",
       " 't',\n",
       " 'c',\n",
       " 'o',\n",
       " 'n',\n",
       " 't',\n",
       " 'a',\n",
       " 'i',\n",
       " 'n',\n",
       " 's',\n",
       " 's',\n",
       " 'o',\n",
       " 'm',\n",
       " 'e',\n",
       " '1',\n",
       " '2',\n",
       " '3',\n",
       " '2',\n",
       " '1',\n",
       " 'r',\n",
       " 'a',\n",
       " 'n',\n",
       " 'd',\n",
       " 'o',\n",
       " 'm',\n",
       " '4',\n",
       " '2',\n",
       " 'd',\n",
       " 'i',\n",
       " 'g',\n",
       " 'i',\n",
       " 't',\n",
       " 's',\n",
       " '1',\n",
       " '2',\n",
       " '3',\n",
       " '3',\n",
       " '2',\n",
       " '1']"
      ]
     },
     "execution_count": 142,
     "metadata": {},
     "output_type": "execute_result"
    }
   ],
   "source": [
    "text = \"This text contains some 12321 random 42 digits 123321.\"\n",
    "pattern = \"\\w\"\n",
    "re.findall(pattern, text)"
   ]
  },
  {
   "cell_type": "code",
   "execution_count": 143,
   "id": "descending-project",
   "metadata": {},
   "outputs": [
    {
     "data": {
      "text/plain": [
       "[' ', ' ', ' ', ' ', ' ', ' ', ' ', ' ', '.']"
      ]
     },
     "execution_count": 143,
     "metadata": {},
     "output_type": "execute_result"
    }
   ],
   "source": [
    "text = \"This text contains some 12321 random 42 digits 123321.\"\n",
    "pattern = \"\\W\"\n",
    "re.findall(pattern, text)"
   ]
  },
  {
   "cell_type": "code",
   "execution_count": 187,
   "id": "statutory-diploma",
   "metadata": {},
   "outputs": [
    {
     "data": {
      "text/plain": [
       "['e', 'c', 'a', 'e', 'a', 'd', 'd', 'g']"
      ]
     },
     "execution_count": 187,
     "metadata": {},
     "output_type": "execute_result"
    }
   ],
   "source": [
    "# Find any literal between a and m in a sentence\n",
    "\n",
    "text = \"This text contains some 12321 random 42 digits 123321.\"\n",
    "pattern = \"[a-g]\"\n",
    "re.findall(pattern, text)"
   ]
  },
  {
   "cell_type": "code",
   "execution_count": 189,
   "id": "recent-investor",
   "metadata": {},
   "outputs": [
    {
     "data": {
      "text/plain": [
       "['T',\n",
       " 'h',\n",
       " 'i',\n",
       " 's',\n",
       " ' ',\n",
       " 't',\n",
       " 'x',\n",
       " 't',\n",
       " ' ',\n",
       " 'o',\n",
       " 'n',\n",
       " 't',\n",
       " 'i',\n",
       " 'n',\n",
       " 's',\n",
       " ' ',\n",
       " 's',\n",
       " 'o',\n",
       " 'm',\n",
       " ' ',\n",
       " '1',\n",
       " '2',\n",
       " '3',\n",
       " '2',\n",
       " '1',\n",
       " ' ',\n",
       " 'r',\n",
       " 'n',\n",
       " 'o',\n",
       " 'm',\n",
       " ' ',\n",
       " '4',\n",
       " '2',\n",
       " ' ',\n",
       " 'i',\n",
       " 'i',\n",
       " 't',\n",
       " 's',\n",
       " ' ',\n",
       " '1',\n",
       " '2',\n",
       " '3',\n",
       " '3',\n",
       " '2',\n",
       " '1',\n",
       " '.']"
      ]
     },
     "execution_count": 189,
     "metadata": {},
     "output_type": "execute_result"
    }
   ],
   "source": [
    "# Find any char that is not a literal between a and g\n",
    "\n",
    "text = \"This text contains some 12321 random 42 digits 123321.\"\n",
    "pattern = \"[^a-g]\"\n",
    "re.findall(pattern, text)"
   ]
  },
  {
   "cell_type": "markdown",
   "id": "bacterial-front",
   "metadata": {},
   "source": [
    "It is also possible to use consecutive regex:"
   ]
  },
  {
   "cell_type": "code",
   "execution_count": 144,
   "id": "announced-torture",
   "metadata": {},
   "outputs": [
    {
     "data": {
      "text/plain": [
       "['@gmail.com']"
      ]
     },
     "execution_count": 144,
     "metadata": {},
     "output_type": "execute_result"
    }
   ],
   "source": [
    "text = \"antonio.marsella95@gmail.com\"\n",
    "pattern = \"\\@\\w\\w\\w\\w\\w.com\"\n",
    "re.findall(pattern, text)"
   ]
  },
  {
   "cell_type": "markdown",
   "id": "fleet-diamond",
   "metadata": {},
   "source": [
    "👆 As you can see here, we are repeating `\\w` to indicate that an alphanumeric example will be there. However, there are clever ways for repetions."
   ]
  },
  {
   "cell_type": "markdown",
   "id": "threatened-manner",
   "metadata": {},
   "source": [
    "\n",
    "There are five ways to express repetition in a pattern:\n",
    "\n",
    "1.) A pattern followed by the meta-character * is repeated zero or more times. \n",
    "\n",
    "2.) Replace the * with + and the pattern must appear at least once. \n",
    "\n",
    "3.) Using ? means the pattern appears zero or one time. \n",
    "\n",
    "4.) For a specific number of occurrences, use {m} after the pattern, where m is replaced with the number of times         the pattern should repeat. \n",
    "\n",
    "5.) Use {m,n} where m is the minimum number of repetitions and n is the maximum. Leaving out n ({m,}) means the           value appears at least m times, with no maximum.\n",
    "\n",
    "\n",
    "**Summary Table**\n",
    "\n",
    "\n",
    "| Symbol   |      Meaning      |\n",
    "|:----------:|:-------------:|\n",
    "| * |  zero or more times |\n",
    "| + |    at least once   |\n",
    "| ? | zero or one time |\n",
    "| {m} | exactly m times |\n",
    "| {m,n} | m for minimum reps, n for maximum. |\n",
    "| {m,} | at least m times, no maximum|\n",
    "\n",
    "\n"
   ]
  },
  {
   "cell_type": "code",
   "execution_count": 148,
   "id": "brazilian-bulgarian",
   "metadata": {},
   "outputs": [
    {
     "data": {
      "text/plain": [
       "['antonio.marsella95', '']"
      ]
     },
     "execution_count": 148,
     "metadata": {},
     "output_type": "execute_result"
    }
   ],
   "source": [
    "# Retrieve what is the username of any provider.\n",
    "text = \"My email is antonio.marsella95@gmail.com.\"\n",
    "pattern = \"\\@\\w+.\\w+\"\n",
    "re.split(pattern, text)"
   ]
  },
  {
   "cell_type": "code",
   "execution_count": 159,
   "id": "religious-criticism",
   "metadata": {},
   "outputs": [
    {
     "data": {
      "text/plain": [
       "['1)', '2)', '3)', '11)']"
      ]
     },
     "execution_count": 159,
     "metadata": {},
     "output_type": "execute_result"
    }
   ],
   "source": [
    "text = \"\"\"\n",
    "1) First\n",
    "2) Second\n",
    "3) Third\n",
    "...\n",
    "11) Eleventh\"\"\"\n",
    "\n",
    "re.findall(\"\\s*\\d+\\s*\\)\", text.replace(\"\\n\", \"\"))"
   ]
  },
  {
   "cell_type": "markdown",
   "id": "hollow-fitting",
   "metadata": {},
   "source": [
    "## re.compile \n",
    "\n",
    "The sequence\n",
    "\n",
    "```\n",
    "prog = re.compile(pattern)\n",
    "result = prog.match(text)\n",
    "```\n",
    "is equivalent to\n",
    "\n",
    "```\n",
    "result = re.match(pattern, test)\n",
    "```\n",
    "\n",
    "but using `re.compile()` and saving the resulting regular expression object for reuse is more efficient when the expression will be used several times in a single program.\n",
    "\n",
    "*Note*: The compiled versions of the most recent patterns passed to `re.compile()` and the module-level matching functions are cached, so programs that use only a few regular expressions at a time needn’t worry about compiling regular expressions."
   ]
  },
  {
   "cell_type": "code",
   "execution_count": 161,
   "id": "acting-apache",
   "metadata": {},
   "outputs": [
    {
     "data": {
      "text/plain": [
       "['1)', '2)', '3)', '11)']"
      ]
     },
     "execution_count": 161,
     "metadata": {},
     "output_type": "execute_result"
    }
   ],
   "source": [
    "text = \"\"\"\n",
    "1) First\n",
    "2) Second\n",
    "3) Third\n",
    "...\n",
    "11) Eleventh\"\"\"\n",
    "\n",
    "prog = re.compile(\"\\s*\\d+\\s*\\)\")\n",
    "prog.findall(text.replace(\"\\n\", \"\"))"
   ]
  },
  {
   "cell_type": "markdown",
   "id": "electrical-richmond",
   "metadata": {},
   "source": [
    "## Groups\n",
    "\n",
    "By placing part of a regular expression inside round brackets or parentheses, you can group that part of the regular expression together. This allows you to apply a quantifier to the entire group or to restrict alternation to part of the regex.\n",
    "\n",
    "\n"
   ]
  },
  {
   "cell_type": "code",
   "execution_count": 216,
   "id": "collected-example",
   "metadata": {},
   "outputs": [
    {
     "name": "stdout",
     "output_type": "stream",
     "text": [
      "<re.Match object; span=(0, 15), match='Richard Feynman'>\n",
      "Group 0: Richard Feynman\n",
      "Group 1: Richard\n",
      "Group 2: Feynman\n"
     ]
    }
   ],
   "source": [
    "text = \"Richard Feynman, physicist\"\n",
    "\n",
    "pattern = r\"(\\w+) (\\w+)\"\n",
    "groups = re.match(pattern, text)\n",
    "print(groups)\n",
    "\n",
    "print(f\"Group 0: {groups[0]}\")\n",
    "print(f\"Group 1: {groups[1]}\")\n",
    "print(f\"Group 2: {groups[2]}\")\n",
    "\n"
   ]
  },
  {
   "cell_type": "markdown",
   "id": "unsigned-wound",
   "metadata": {},
   "source": [
    "## Lookaround\n",
    "\n",
    "Lookahead is used as an assertion in Python regular expressions to determine success or failure whether the pattern is ahead i.e to the right of the parser’s current position. They don’t match anything. Hence, they are called as zero-width assertions.\n",
    "\n",
    "Lookbehind is the same, but it looks on the left of the parser's current position.\n",
    "\n",
    "\n",
    "| Lookaround | Name                | What it Does                                                                         |\n",
    "|------------|---------------------|--------------------------------------------------------------------------------------|\n",
    "| (?=foo)    | Lookahead           | Asserts that what immediately follows the current position in the string is foo      |\n",
    "| (?<=foo)   | Lookbehind          | Asserts that what immediately precedes the current position in the string is foo     |\n",
    "| (?!foo)    | Negative Lookahead  | Asserts that what immediately follows the current position in the string is not foo  |\n",
    "| (?<!foo)   | Negative Lookbehind | Asserts that what immediately precedes the current position in the string is not foo |\n"
   ]
  },
  {
   "cell_type": "code",
   "execution_count": 237,
   "id": "qualified-tribe",
   "metadata": {},
   "outputs": [
    {
     "data": {
      "text/plain": [
       "['test', 'text']"
      ]
     },
     "execution_count": 237,
     "metadata": {},
     "output_type": "execute_result"
    }
   ],
   "source": [
    "# Find all the words that start with te\n",
    "text = \"This is a sample test text.\"\n",
    "pattern = r\"(?=te)[a-z]*\"\n",
    "re.findall(pattern, text, re.IGNORECASE)"
   ]
  },
  {
   "cell_type": "code",
   "execution_count": 239,
   "id": "downtown-exchange",
   "metadata": {},
   "outputs": [
    {
     "data": {
      "text/plain": [
       "['studied', '', 'succeeded', '']"
      ]
     },
     "execution_count": 239,
     "metadata": {},
     "output_type": "execute_result"
    }
   ],
   "source": [
    "# Find all the words that end with ed\n",
    "text = \"Here's a list of past tense verbs: studied, succeeded.\"\n",
    "pattern = r\"[a-z]*(?<=ed)\"\n",
    "re.findall(pattern, text, re.IGNORECASE)"
   ]
  },
  {
   "cell_type": "markdown",
   "id": "current-interstate",
   "metadata": {},
   "source": [
    "## re.sub\n",
    "\n",
    "Substitutes a pattern with another"
   ]
  },
  {
   "cell_type": "code",
   "execution_count": 5,
   "id": "innovative-visiting",
   "metadata": {
    "ExecuteTime": {
     "end_time": "2021-03-29T10:17:35.453561Z",
     "start_time": "2021-03-29T10:17:35.437251Z"
    }
   },
   "outputs": [
    {
     "data": {
      "text/plain": [
       "'HeLLooooooooo thereeee'"
      ]
     },
     "execution_count": 5,
     "metadata": {},
     "output_type": "execute_result"
    }
   ],
   "source": [
    "text = \"Hellooooooooo thereeee\"\n",
    "\n",
    "re.sub(r\"ll\", r\"LL\", text)"
   ]
  },
  {
   "cell_type": "markdown",
   "id": "phantom-recycling",
   "metadata": {},
   "source": [
    "Replace all the repetitive occurrences of a char with a single one:"
   ]
  },
  {
   "cell_type": "code",
   "execution_count": 2,
   "id": "mysterious-welsh",
   "metadata": {
    "ExecuteTime": {
     "end_time": "2021-03-29T10:11:59.667285Z",
     "start_time": "2021-03-29T10:11:59.648338Z"
    }
   },
   "outputs": [
    {
     "data": {
      "text/plain": [
       "'Helo there'"
      ]
     },
     "execution_count": 2,
     "metadata": {},
     "output_type": "execute_result"
    }
   ],
   "source": [
    "re.sub(r\"(.)\\1+\", r\"\\1\", text)"
   ]
  },
  {
   "cell_type": "markdown",
   "id": "possible-sleep",
   "metadata": {},
   "source": [
    "Convert a date of yyyy-mm-dd format to dd-mm-yyyy format."
   ]
  },
  {
   "cell_type": "code",
   "execution_count": 16,
   "id": "joint-tours",
   "metadata": {
    "ExecuteTime": {
     "end_time": "2021-03-29T19:33:20.593826Z",
     "start_time": "2021-03-29T19:33:20.588140Z"
    }
   },
   "outputs": [
    {
     "name": "stdout",
     "output_type": "stream",
     "text": [
      "Original date in YYY-MM-DD Format:  2026-01-02\n",
      "New date in DD-MM-YYYY Format:  02-01-2026\n"
     ]
    }
   ],
   "source": [
    "date = \"2026-01-02\"\n",
    "print(\"Original date in YYY-MM-DD Format: \",date)\n",
    "\n",
    "\n",
    "changed = re.sub(r'(\\d{4})-(\\d{1,2})-(\\d{1,2})', r'\\3-\\2-\\1', date)\n",
    "print(\"New date in DD-MM-YYYY Format: \", changed)"
   ]
  },
  {
   "cell_type": "markdown",
   "id": "brown-fisher",
   "metadata": {},
   "source": [
    "Using the brackets create \"groups\" so you can reference each of the groups with `\\number`."
   ]
  },
  {
   "cell_type": "markdown",
   "id": "trained-county",
   "metadata": {},
   "source": [
    "### Quick recap\n",
    "\n",
    "\n",
    "| Symbols | Explaination                                                               | Example        |\n",
    "|---------|----------------------------------------------------------------------------|----------------|\n",
    "| `[]`    | A set of characters                                                        | \"[a-m]\"        |\n",
    "| `\\`     | Signals a special sequence (can also be used to escape special characters) | \"\\d\"           |\n",
    "| `.`     | Any character (except newline character)                                   | \"he..o\"        |\n",
    "| `^`     | Starts with                                                                | \"^hello\"       |\n",
    "| `$`     | Ends with                                                                  | \"world$\"       |\n",
    "| `*`     | Zero or more occurrences                                                   | \"aix*\"         |\n",
    "| `+`     | One or more occurrences                                                    | \"aix+\"         |\n",
    "| `{}`    | Exactly the specified number of occurrences                                | \"al{2}\"        |\n",
    "| `\\|`    | Either or                                                                  | \"falls\\|stays\" |\n",
    "| `()`    | Capture and group                                                          |                |\n",
    "\n",
    "**Deeper recap:**\n",
    "\n",
    "| Code | Meaning                                |\n",
    "|------|----------------------------------------|\n",
    "| \\d   | a digit                                |\n",
    "| \\D   | a non-digit                            |\n",
    "| \\s   | whitespace (tab, space, newline, etc.) |\n",
    "| \\S   | non-whitespace                         |\n",
    "| \\w   | alphanumeric                           |\n",
    "| \\W   | non-alphanumeric                       |\n",
    "| [abc] | any of a,b, or c                      |\n",
    "| [^abc] | not a,b, or c                        |\n",
    "| [a-g] | characters between a & g              |\n",
    "\n",
    "**Anchors**\n",
    "\n",
    "`\\b`\n",
    "Matches the empty string, but only at the beginning or end of a word. A word is defined as a sequence of word characters. Note that formally, \\b is defined as the boundary between a \\w and a \\W character (or vice versa), or between \\w and the beginning/end of the string. This means that r'\\bfoo\\b' matches 'foo', 'foo.', '(foo)', 'bar foo baz' but not 'foobar' or 'foo3'.\n",
    "\n",
    "`\\B`\n",
    "\n",
    "Matches the empty string, but only when **it is not at the beginning or end of a word**. This means that r'py\\B' matches 'python', 'py3', 'py2', but not 'py', 'py.', or 'py!'. \\B is just the opposite of \\b.\n",
    "\n",
    "\n",
    "**Escaped characters**\n",
    "\n",
    "| Class | Explanation |\n",
    "|:-----:|:-----------:|\n",
    "| \\\\. \\\\* \\\\\\\\ | escaped special characters |\n",
    "| \\t \\n \\r | tab, linefeed, carriage return |\n",
    "\n",
    "**Repetitions**\n",
    "\n",
    "1.) A pattern followed by the meta-character * is repeated zero or more times. \n",
    "\n",
    "2.) Replace the * with + and the pattern must appear at least once. \n",
    "\n",
    "3.) Using ? means the pattern appears zero or one time. \n",
    "\n",
    "4.) For a specific number of occurrences, use {m} after the pattern, where m is replaced with the number of times         the pattern should repeat. \n",
    "\n",
    "5.) Use {m,n} where m is the minimum number of repetitions and n is the maximum. Leaving out n ({m,}) means the           value appears at least m times, with no maximum.\n",
    "\n",
    "\n",
    "**Summary Table**\n",
    "\n",
    "\n",
    "| Symbol   |      Meaning      |\n",
    "|:----------:|:-------------:|\n",
    "| * |  zero or more times |\n",
    "| + |    at least once   |\n",
    "| ? | zero or one time |\n",
    "| {m} | exactly m times |\n",
    "| {m,n} | m for minimum reps, n for maximum. |\n",
    "| {m,} | at least m times, no maximum|\n",
    "\n",
    "**Lookaround**\n",
    "\n",
    "\n",
    "| Lookaround | Name                | What it Does                                                                         |\n",
    "|------------|---------------------|--------------------------------------------------------------------------------------|\n",
    "| (?=foo)    | Lookahead           | Asserts that what immediately follows the current position in the string is foo      |\n",
    "| (?<=foo)   | Lookbehind          | Asserts that what immediately precedes the current position in the string is foo     |\n",
    "| (?!foo)    | Negative Lookahead  | Asserts that what immediately follows the current position in the string is not foo  |\n",
    "| (?<!foo)   | Negative Lookbehind | Asserts that what immediately precedes the current position in the string is not foo |\n",
    "\n",
    "More on https://www.regular-expressions.info/ .\n",
    "\n"
   ]
  },
  {
   "cell_type": "markdown",
   "id": "unauthorized-grain",
   "metadata": {},
   "source": [
    "**You can play with regex at https://regexr.com.**"
   ]
  },
  {
   "cell_type": "code",
   "execution_count": null,
   "id": "opening-strand",
   "metadata": {},
   "outputs": [],
   "source": []
  }
 ],
 "metadata": {
  "kernelspec": {
   "display_name": "Python 3",
   "language": "python",
   "name": "python3"
  },
  "language_info": {
   "codemirror_mode": {
    "name": "ipython",
    "version": 3
   },
   "file_extension": ".py",
   "mimetype": "text/x-python",
   "name": "python",
   "nbconvert_exporter": "python",
   "pygments_lexer": "ipython3",
   "version": "3.9.1"
  },
  "varInspector": {
   "cols": {
    "lenName": 16,
    "lenType": 16,
    "lenVar": 40
   },
   "kernels_config": {
    "python": {
     "delete_cmd_postfix": "",
     "delete_cmd_prefix": "del ",
     "library": "var_list.py",
     "varRefreshCmd": "print(var_dic_list())"
    },
    "r": {
     "delete_cmd_postfix": ") ",
     "delete_cmd_prefix": "rm(",
     "library": "var_list.r",
     "varRefreshCmd": "cat(var_dic_list()) "
    }
   },
   "types_to_exclude": [
    "module",
    "function",
    "builtin_function_or_method",
    "instance",
    "_Feature"
   ],
   "window_display": false
  }
 },
 "nbformat": 4,
 "nbformat_minor": 5
}
